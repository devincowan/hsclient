{
 "cells": [
  {
   "cell_type": "markdown",
   "metadata": {
    "id": "HHsuQMMJyms4"
   },
   "source": [
    "# hsclient HydroShare Python Client Resource File Operation Examples\n",
    "\n",
    "\n",
    "---\n",
    "\n",
    "\n",
    "The following code snippets show examples for how to use the hsclient HydroShare Python Client to manipulate files within a HydroShare Resource."
   ]
  },
  {
   "cell_type": "markdown",
   "metadata": {
    "id": "b_Tj5gJx0fRj"
   },
   "source": [
    "## Install the hsclient Python Client\n",
    "\n",
    "The hsclient Python Client for HydroShare may not be installed by default in your Python environment, so it has to be installed first before you can work with it. Use the following command to install hsclient via the Python Package Index (PyPi)."
   ]
  },
  {
   "cell_type": "code",
   "metadata": {
    "id": "hzriLgMl0oJ2"
   },
   "source": [
    "!pip install hsclient"
   ],
   "outputs": [],
   "execution_count": null
  },
  {
   "cell_type": "markdown",
   "metadata": {
    "id": "CZNOazcn9-23"
   },
   "source": [
    "## Authenticating with HydroShare\n",
    "\n",
    "Before you start interacting with resources in HydroShare you will need to authenticate. "
   ]
  },
  {
   "cell_type": "code",
   "metadata": {},
   "source": [
    "from hsclient import HydroShare\n",
    "\n",
    "hs = HydroShare()\n",
    "hs.sign_in()"
   ],
   "outputs": [],
   "execution_count": null
  },
  {
   "cell_type": "markdown",
   "metadata": {
    "id": "TH3UUihSojIb"
   },
   "source": [
    "## Create a New Empty Resource\n",
    "\n",
    "A \"resource\" is a container for your content in HydroShare. Think of it as a \"working directory\" into which you are going to organize the code and/or data you are using and want to share. The following code can be used to create a new, empty resource within which you can create content and metadata.\n",
    "\n",
    "This code creates a new resource in HydroShare. It also creates an in-memory object representation of that resource in your local environmment that you can then manipulate with further code."
   ]
  },
  {
   "cell_type": "code",
   "metadata": {
    "id": "W9azvJ_Co87w"
   },
   "source": [
    "# Create the new, empty resource\n",
    "new_resource = hs.create()\n",
    "\n",
    "# Get the HydroShare identifier for the new resource\n",
    "res_identifier = new_resource.resource_id\n",
    "print(f'The HydroShare Identifier for your new resource is: {res_identifier}')\n",
    "\n",
    "# Construct a hyperlink for the new resource\n",
    "print(f'Your new resource is available at: {new_resource.metadata.url}')"
   ],
   "outputs": [],
   "execution_count": null
  },
  {
   "cell_type": "markdown",
   "metadata": {
    "id": "-L4tkNiC86lB"
   },
   "source": [
    "## Resource File Handling\n",
    "\n",
    "HydroShare resources can have any number of files within them organized within a file/directory structure. File handing operations allow you to manage the content files within a resource.\n",
    "\n",
    "First, show the list of files within the resource, which is initially empty. The `search_aggregations` argument tells the client whether you want to look at all of the files in the resource (`search_aggregations=True`) or if you want to want to only look at files that do not belong to a content aggregation (`search_aggregations=False`)."
   ]
  },
  {
   "cell_type": "code",
   "metadata": {
    "id": "HyMe70UQApXl"
   },
   "source": [
    "# Print the title of the resource and the list of files it contains\n",
    "print(f'Working on: {new_resource.metadata.title}')\n",
    "print('File list:')\n",
    "for file in new_resource.files(search_aggregations=True):\n",
    "    print(file.name)"
   ],
   "outputs": [],
   "execution_count": null
  },
  {
   "cell_type": "markdown",
   "metadata": {
    "id": "GKddh49nyl4m"
   },
   "source": [
    "### Adding Files to a Resource\n",
    "\n",
    "You may need to add content files to your resource. The examples here upload files from the `Example_Files` folder that is included in the same folder that contains these Jupyter Notebook examples. If you are running in your own local Python environment and want to load files from your local machine, you would specify the path to the file(s) on your hard drive. If you want to upload multiple files at once, you can pass multiple file paths separated by commas to the `upload()` function.\n",
    "\n",
    "Note that if you upload files that already exist, those files will be overwritten."
   ]
  },
  {
   "cell_type": "code",
   "metadata": {
    "id": "Fkff8qzx1CHZ"
   },
   "source": [
    "# Upload one or more files to your resource\n",
    "new_resource.file_upload('Example_Files/Data_File1.txt', 'Example_Files/Data_File2.txt')\n",
    "\n",
    "# Print the names of the files in the resource\n",
    "print('Updated file list after adding a file: ')\n",
    "for file in new_resource.files(search_aggregations=True):\n",
    "    print(file.path)"
   ],
   "outputs": [],
   "execution_count": null
  },
  {
   "cell_type": "markdown",
   "metadata": {},
   "source": "HydroShare also allows you to create a folder hierarchy within your resource. You can use this functionality to keep your content organized, just as you would on your own computer. You can upload files to specific folders within the resource. Paths to folders are specified relative to the \"content\" directory of the resource."
  },
  {
   "cell_type": "code",
   "metadata": {},
   "source": [
    "# First create a new folder\n",
    "new_resource.folder_create('New_Folder')\n",
    "\n",
    "# Upload one or more files to a specific folder within a resource\n",
    "new_resource.file_upload('Example_Files/Data_File2.txt', destination_path='New_Folder')\n",
    "\n",
    "# Print the names of the files in the resource\n",
    "print('Updated file list after adding a file: ')\n",
    "for file in new_resource.files(search_aggregations=True):\n",
    "    print(file.path)"
   ],
   "outputs": [],
   "execution_count": null
  },
  {
   "cell_type": "markdown",
   "metadata": {},
   "source": [
    "### Searching for Files within a Resource\n",
    "\n",
    "If you need to find/get one or more files within a resource so you can download or remove it from the resource, there are several filters available that allow you to return a list of files that meet your search criteria or a single file."
   ]
  },
  {
   "cell_type": "markdown",
   "metadata": {},
   "source": [
    "#### Get a List of Files\n",
    "\n",
    "Execute a filter to return a list of files within the resource that meet the search critera."
   ]
  },
  {
   "cell_type": "code",
   "metadata": {},
   "source": [
    "# Get a list of the files in the resource that are not part of an aggregation\n",
    "file_list = new_resource.files()\n",
    "print('All files that are not part of an aggregation:')\n",
    "print(*file_list, sep='\\n')\n",
    "print('\\n')\n",
    "\n",
    "# Get a list of the files in the resource inclusive of files that are inside\n",
    "# content type aggregations\n",
    "file_list = new_resource.files(search_aggregations=True)\n",
    "print('All files in the resource:')\n",
    "print(*file_list, sep='\\n')\n",
    "print('\\n')\n",
    "\n",
    "# Get a list of the files within a folder in the resource\n",
    "# Note that you have to pass the full relative path to the folder you are searching\n",
    "# because there may be multiple folders within a resource with the same name.\n",
    "# To get files in the root folder, pass an empty string (folder=\"\")\n",
    "file_list = new_resource.files(folder='New_Folder')\n",
    "print('All files within a specific folder:')\n",
    "print(*file_list, sep='\\n')\n",
    "print('\\n')\n",
    "\n",
    "# Get a list of all files that have a specific extension. This searches all folders\n",
    "file_list = new_resource.files(extension='.txt')\n",
    "print('All files with a .txt file extension:')\n",
    "print(*file_list, sep='\\n')\n",
    "print('\\n')\n",
    "\n",
    "# Filters can be combined\n",
    "# Get a list of all files in a particular folder that have a specific extension\n",
    "file_list = new_resource.files(folder='New_Folder', extension='.txt')\n",
    "print('All files with a .txt file extension in a particular folder:')\n",
    "print(*file_list, sep='\\n')"
   ],
   "outputs": [],
   "execution_count": null
  },
  {
   "cell_type": "markdown",
   "metadata": {},
   "source": [
    "#### Search for a Single File\n",
    "\n",
    "Execute a filter to look for a single file in the resource that meets the search criteria."
   ]
  },
  {
   "cell_type": "code",
   "metadata": {},
   "source": [
    "# Get a single file using its path relative to the resource content directory\n",
    "file = new_resource.file(path='New_Folder/Data_File2.txt')\n",
    "print('File retrieved using path:')\n",
    "print(file)\n",
    "print('\\n')\n",
    "\n",
    "# Get a single file using its name\n",
    "# Note that if you have multiple files in your resource with the same name, but in different\n",
    "# folders, you should search for a particular file using the path parameter to ensure that\n",
    "# you get the right file\n",
    "file = new_resource.file(name='Data_File2.txt')\n",
    "print('File retrieved using name:')\n",
    "print(file)"
   ],
   "outputs": [],
   "execution_count": null
  },
  {
   "cell_type": "markdown",
   "metadata": {},
   "source": [
    "### Get the Properties of a File\n",
    "\n",
    "When you use the filters to return a file from a resource, you get back a file object that holds properties of the file."
   ]
  },
  {
   "cell_type": "code",
   "metadata": {},
   "source": [
    "# Search for a file within a resource\n",
    "file = new_resource.file(path='New_Folder/Data_File2.txt')\n",
    "\n",
    "# Print the properties of the file\n",
    "print(f'File name: {file.name}')\n",
    "print(f'File extension: {file.extension}')\n",
    "print(f'File folder name: {file.folder}')\n",
    "print(f'File path: {file.path}')\n",
    "print(f'File url_path: {file.url}')\n",
    "print(f'File checksum: {file.checksum}')"
   ],
   "outputs": [],
   "execution_count": null
  },
  {
   "cell_type": "markdown",
   "metadata": {},
   "source": [
    "### Renaming and Moving Files\n",
    "\n",
    "You may need to rename or move files once they have been added to a resource. First get the file object and then rename or move it."
   ]
  },
  {
   "cell_type": "code",
   "metadata": {},
   "source": [
    "# Get a file to rename - use the relative path to the file to make sure you have the right one\n",
    "file = new_resource.file(path='Data_File2.txt')\n",
    "\n",
    "# Rename the file to whatever you want\n",
    "new_resource.file_rename(file, 'Data_File2_Renamed.txt')\n",
    "\n",
    "# Print the names of the files in the resource\n",
    "print('Updated file list after renaming a file: ')\n",
    "for file in new_resource.files(search_aggregations=True):\n",
    "    print(file.path)"
   ],
   "outputs": [],
   "execution_count": null
  },
  {
   "cell_type": "markdown",
   "metadata": {},
   "source": [
    "Moving files is similar to renaming. Instead of just changing the file name, change the relative path of the file to move it to the new location within the resource."
   ]
  },
  {
   "cell_type": "code",
   "metadata": {},
   "source": [
    "# Get a file to move\n",
    "file = new_resource.file(path='Data_File1.txt')\n",
    "\n",
    "# Move the file to a different folder\n",
    "new_resource.file_rename(file, 'New_Folder/Data_File1.txt')\n",
    "\n",
    "# Print the names of the files in the resource\n",
    "print('Updated file list after renaming a file: ')\n",
    "for file in new_resource.files(search_aggregations=True):\n",
    "    print(file.path)"
   ],
   "outputs": [],
   "execution_count": null
  },
  {
   "cell_type": "markdown",
   "metadata": {
    "id": "Yo7YOkd7_GgY"
   },
   "source": [
    "### Downloading Files from a Resource\n",
    "\n",
    "You can download individual files from an existing HydroShare resource. You can use the filters shown above to specify which file(s) you want to download.\n",
    "\n",
    "When you call the `file_download()` function on an individual file, you can pass a path where you want to save the file as a string. Leaving the path blank downloads the files to the same directory as your Jupyter Notebook."
   ]
  },
  {
   "cell_type": "code",
   "metadata": {
    "id": "Mj4nEDY1_QOr"
   },
   "source": [
    "# Download a single file from a resource\n",
    "# Note that if you have multiple files within the same resource that have the same name,\n",
    "# and you want a particular file, you need to specify the relative path to the specific file\n",
    "file = new_resource.file(path='New_Folder/Data_File1.txt')\n",
    "new_resource.file_download(file)"
   ],
   "outputs": [],
   "execution_count": null
  },
  {
   "cell_type": "markdown",
   "metadata": {
    "id": "3JyjonNjLgfz"
   },
   "source": [
    "If you want to, you can clean up the file that was just downloaded by deleting it using a terminal command."
   ]
  },
  {
   "cell_type": "code",
   "metadata": {
    "id": "9cz_dgOsLb3n"
   },
   "source": "!rm 'Data_File1.txt'",
   "outputs": [],
   "execution_count": null
  },
  {
   "metadata": {},
   "cell_type": "markdown",
   "source": [
    "### Unzipping a File in a Resource\n",
    "\n",
    "You can unzip a file in a HydroShare resource."
   ]
  },
  {
   "metadata": {},
   "cell_type": "code",
   "source": [
    "# Upload a zipped file to the resource\n",
    "new_resource.file_upload('Example_Files/test.zip')\n",
    "\n",
    "# Specify the file you want to unzip\n",
    "new_resource.file_unzip(path='test.zip')\n",
    "\n",
    "# Print the names of the files in the resource\n",
    "print('Updated file list after unzipping a file: ')\n",
    "for file in new_resource.files(search_aggregations=True):\n",
    "    print(file.path)"
   ],
   "outputs": [],
   "execution_count": null
  },
  {
   "cell_type": "markdown",
   "metadata": {
    "id": "JPbN38YpD0r0"
   },
   "source": [
    "### Removing Files from a Resource\n",
    "\n",
    "You can also delete files from a resource. In this example, I remove one of the files I added to the resource above. You have to delete each individual file. Make sure you call delete using the `path` parameter to make sure you are deleting the right file."
   ]
  },
  {
   "cell_type": "code",
   "metadata": {
    "id": "aus1oUqoEJcu"
   },
   "source": [
    "# Specify the file you want to delete\n",
    "file = new_resource.file(path='New_Folder/Data_File2.txt')\n",
    "\n",
    "new_resource.file_delete(file)\n",
    "\n",
    "# Print the names of the files in the resource\n",
    "print('Updated file list after removing file: ')\n",
    "for file in new_resource.files(search_aggregations=True):\n",
    "    print(file.path)"
   ],
   "outputs": [],
   "execution_count": null
  },
  {
   "metadata": {},
   "cell_type": "markdown",
   "source": [
    "### Deleting Folders from a Resource\n",
    "\n",
    "You can delete folders from a HydroShare resource. You can delete a folder and all of the files within it.\n"
   ]
  },
  {
   "metadata": {},
   "cell_type": "code",
   "source": [
    "# Specify the folder you want to delete\n",
    "new_resource.folder_delete('New_Folder')\n",
    "\n",
    "# Print the names of the files in the resource\n",
    "print('Updated file list after deleting folder: ')\n",
    "for file in new_resource.files(search_aggregations=True):\n",
    "    print(file.path)"
   ],
   "outputs": [],
   "execution_count": null
  },
  {
   "metadata": {},
   "cell_type": "markdown",
   "source": [
    "### Moving a Folder in a Resource\n",
    "\n",
    "You can move a folder in a HydroShare resource. You can move a folder and all of the files within it to a different folder in that resource. Moving folders is similar to renaming. Instead of just changing the folder name, change the relative path of the folder to move it to the new location within the resource.\n"
   ]
  },
  {
   "metadata": {},
   "cell_type": "code",
   "source": [
    "# First create a new folder\n",
    "new_resource.folder_create('New_Folder_1')\n",
    "# Upload one or more files to a specific folder within a resource\n",
    "new_resource.file_upload('Example_Files/Data_File1.txt', destination_path='New_Folder_1')\n",
    "\n",
    "# Print the names of the files in the resource\n",
    "print('Updated file list after uploading file to folder: ')\n",
    "for file in new_resource.files(search_aggregations=True):\n",
    "    print(file.path)"
   ],
   "outputs": [],
   "execution_count": null
  },
  {
   "metadata": {},
   "cell_type": "code",
   "source": [
    "# Create a 2nd folder\n",
    "new_resource.folder_create('New_Folder_2')\n",
    "# Upload one or more files to a specific folder within a resource\n",
    "new_resource.file_upload('Example_Files/Data_File2.txt', destination_path='New_Folder_2')\n",
    "\n",
    "# Print the names of the files in the resource\n",
    "print('Updated file list after uploading file to folder: ')\n",
    "for file in new_resource.files(search_aggregations=True):\n",
    "    print(file.path)"
   ],
   "outputs": [],
   "execution_count": null
  },
  {
   "metadata": {},
   "cell_type": "code",
   "source": [
    "# Now move the folder 'New_Folder_2' to 'New_Folder_1' - this will make 'New_Folder_2' a subfolder of 'New_Folder_1'\n",
    "new_resource.folder_rename('New_Folder_2', 'New_Folder_1/New_Folder_2')\n",
    "\n",
    "# Print the names of the files in the resource\n",
    "print('Updated file list after moving folder: ')\n",
    "for file in new_resource.files(search_aggregations=True):\n",
    "    print(file.path)"
   ],
   "outputs": [],
   "execution_count": null
  },
  {
   "metadata": {},
   "cell_type": "markdown",
   "source": [
    "### Renaming a Folder in a Resource\n",
    "\n",
    "You can rename a folder in a HydroShare resource.\n"
   ]
  },
  {
   "metadata": {},
   "cell_type": "code",
   "source": [
    "# Specify the folder you want to rename\n",
    "new_resource.folder_rename('New_Folder_1', 'New_Folder_1_Renamed')\n",
    "\n",
    "# Print the names of the files in the resource\n",
    "print('Updated file list after renaming folder: ')\n",
    "for file in new_resource.files(search_aggregations=True):\n",
    "    print(file.path)"
   ],
   "outputs": [],
   "execution_count": null
  },
  {
   "metadata": {},
   "cell_type": "markdown",
   "source": [
    "### Zipping a Folder in a Resource\n",
    "\n",
    "You can zip a folder in a HydroShare resource. By default, the name of the generated zip file will be based on the name of the folder being zipped. You can optionally provide a name for the generated zip file using the 'zip_name' parameter to the `file_zip()` function. The zip file will be created at the same location where the folder being zipped exists.  \n"
   ]
  },
  {
   "metadata": {},
   "cell_type": "code",
   "source": [
    "# Specify the folder you want to zip - optionally provide a name for the zip file using the parameter 'zip_name'\n",
    "new_resource.file_zip('New_Folder_1_Renamed/New_Folder_2')\n",
    "\n",
    "# Print the names of the files in the resource\n",
    "print('Updated file list after zipping folder: ')\n",
    "for file in new_resource.files(search_aggregations=True):\n",
    "    print(file.path)"
   ],
   "outputs": [],
   "execution_count": null
  },
  {
   "metadata": {},
   "cell_type": "markdown",
   "source": [
    "### Downloading a Folder in a Resource\n",
    "\n",
    "You can download a folder in a HydroShare resource as a zipped file. You can pass a path using the 'save_path' parameter where you want to save the folder zipped file as a string to the `file_download()` function. Leaving the path blank downloads the folder to the same directory as your Jupyter Notebook."
   ]
  },
  {
   "metadata": {},
   "cell_type": "code",
   "source": [
    "# Specify the folder you want to download - optionally use the parameter 'save_path` to specify where you want to save the zipped file\n",
    "new_resource.file_download('New_Folder_1_Renamed', zipped=True)"
   ],
   "outputs": [],
   "execution_count": null
  }
 ],
 "metadata": {
  "colab": {
   "collapsed_sections": [],
   "name": "HS_RDF_Examples.ipynb",
   "provenance": [],
   "toc_visible": true
  },
  "kernelspec": {
   "display_name": "Python 3",
   "language": "python",
   "name": "python3"
  },
  "language_info": {
   "codemirror_mode": {
    "name": "ipython",
    "version": 3
   },
   "file_extension": ".py",
   "mimetype": "text/x-python",
   "name": "python",
   "nbconvert_exporter": "python",
   "pygments_lexer": "ipython3",
   "version": "3.7.3"
  }
 },
 "nbformat": 4,
 "nbformat_minor": 4
}
