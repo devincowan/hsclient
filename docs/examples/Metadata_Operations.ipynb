{
 "cells": [
  {
   "cell_type": "markdown",
   "metadata": {
    "id": "HHsuQMMJyms4"
   },
   "source": [
    "# hsclient HydroShare Python Client Resource Metadata Editing Examples\n",
    "\n",
    "\n",
    "---\n",
    "\n",
    "\n",
    "The following code snippets show examples for how to use the hsclient HydroShare Python Client for creating and editing resource level metadata for a HydroShare resource."
   ]
  },
  {
   "cell_type": "markdown",
   "metadata": {
    "id": "b_Tj5gJx0fRj"
   },
   "source": [
    "## Install the hsclient HydroShare Python Client\n",
    "\n",
    "The hsclient Python Client for HydroShare may not be installed by default in your Python environment, so it has to be installed first before you can work with it. Use the following command to install hsclient via the Python Package Index (PyPi)."
   ]
  },
  {
   "cell_type": "code",
   "metadata": {
    "id": "hzriLgMl0oJ2"
   },
   "source": [
    "!pip install hsclient"
   ],
   "outputs": [],
   "execution_count": null
  },
  {
   "cell_type": "markdown",
   "metadata": {
    "id": "CZNOazcn9-23"
   },
   "source": [
    "## Authenticate with HydroShare\n",
    "\n",
    "Before you start interacting with resources in HydroShare you will need to authenticate."
   ]
  },
  {
   "cell_type": "code",
   "metadata": {
    "id": "3njsiY73m7_V"
   },
   "source": [
    "from hsclient import HydroShare\n",
    "\n",
    "hs = HydroShare()\n",
    "hs.sign_in()"
   ],
   "outputs": [],
   "execution_count": null
  },
  {
   "cell_type": "markdown",
   "metadata": {
    "id": "TH3UUihSojIb"
   },
   "source": [
    "## Create a New Empty Resource\n",
    "\n",
    "A \"resource\" is a container for your content in HydroShare. Think of it as a \"working directory\" into which you are going to organize the code and/or data you are using and want to share. The following code can be used to create a new, empty resource within which you can create content and metadata.\n",
    "\n",
    "This code creates a new resource in HydroShare. It also creates an in-memory object representation of that resource in your local environmment that you can then manipulate with further code."
   ]
  },
  {
   "cell_type": "code",
   "metadata": {
    "id": "W9azvJ_Co87w"
   },
   "source": [
    "# Create the new, empty resource\n",
    "new_resource = hs.create()\n",
    "\n",
    "# Get the HydroShare identifier for the new resource\n",
    "res_identifier = new_resource.resource_id\n",
    "print(f'The HydroShare Identifier for your new resource is: {res_identifier}')\n",
    "\n",
    "# Construct a hyperlink to access the HydroShare landing page for the new resource\n",
    "print(f'Your new resource is available at: {new_resource.metadata.url}')"
   ],
   "outputs": [],
   "execution_count": null
  },
  {
   "cell_type": "markdown",
   "metadata": {
    "id": "rGwESKj9Iqu7"
   },
   "source": [
    "## Creating and Editing Resource Metadata Elements\n",
    "\n",
    "Editing metadata elements for a resource can be done in an object oriented way. You can specify all of the metadata elements in code, which will set their values in memory in your local environment. Values of metadata elements can be edited, removed, or replaced by setting them to a new value, appending new values (in the case where the metadata element accepts a list), or by removing the value entirely. \n",
    "\n",
    "When you are ready to save edits to metadata elements from your local environment to the resource in HydroShare, you can call the `save()` function on your resource and all of the new metadata values you created/edited will be saved to the resource in HydroShare."
   ]
  },
  {
   "cell_type": "markdown",
   "metadata": {
    "id": "06w-WsdbKwUB"
   },
   "source": [
    "### Resource Title and Abstract\n",
    "\n",
    "The Title and Abstract metadata elements can be specified as text strings. To modify the Title or Abstract after it has been set, just set them to a different value."
   ]
  },
  {
   "cell_type": "code",
   "metadata": {
    "id": "QTJIRqu2K42K"
   },
   "source": [
    "# Set the Title for the resource\n",
    "new_resource.metadata.title = 'Resource for Testing the hsclient HydroShare Python Client'\n",
    "\n",
    "# Set the Abstract text for the resource\n",
    "new_resource.metadata.abstract = (\n",
    "    'This resource was created as a demonstration of using the hsclient '\n",
    "    'Python Client for HydroShare. Once you have completed all of the '\n",
    "    'steps in this notebook, you will have a fully populated HydroShare '\n",
    "    'Resource.'\n",
    ")\n",
    "\n",
    "# Call the save function to save the metadata edits to HydroShare\n",
    "new_resource.save()\n",
    "\n",
    "# Print the title just added to the resource\n",
    "print(f'Title: {new_resource.metadata.title}')\n",
    "print(f'Abstract: {new_resource.metadata.abstract}')"
   ],
   "outputs": [],
   "execution_count": null
  },
  {
   "cell_type": "markdown",
   "metadata": {
    "id": "fIUBzj3iK-0f"
   },
   "source": [
    "### Subject Keywords\n",
    "\n",
    "Subject keywords can be specified as a Python list of strings. Keywords can be added by creating a list, appending new keywords to the existing list, or by overriding the existing list with a new one."
   ]
  },
  {
   "cell_type": "code",
   "metadata": {
    "id": "AkwznZOaso_r"
   },
   "source": [
    "# Create subject keywords for the resource using a list of strings\n",
    "new_resource.metadata.subjects = ['hsclient', 'Python', 'HydroShare', 'Another Keyword']\n",
    "\n",
    "# New keywords can be appended to the existing list\n",
    "new_resource.metadata.subjects.append('Hydroinformatics')\n",
    "\n",
    "# Keywords can be removed by removing them from the list\n",
    "new_resource.metadata.subjects.remove('Another Keyword')\n",
    "\n",
    "# Save the changes to the resource in HydroShare\n",
    "new_resource.save()\n",
    "\n",
    "# Print the keywords for the resource\n",
    "print('The list of keywords for the resource includes:')\n",
    "for keyword in new_resource.metadata.subjects:\n",
    "    print(keyword)"
   ],
   "outputs": [],
   "execution_count": null
  },
  {
   "cell_type": "markdown",
   "metadata": {
    "id": "2_nsEfisNDmt"
   },
   "source": [
    "### Spatial and Temporal Coverage\n",
    "\n",
    "Initially the spatial and temporal coverage for a resource are empty. To set them, you have to create a coverage object of the right type and set the spatial or temporal coverage to that object."
   ]
  },
  {
   "cell_type": "code",
   "metadata": {
    "id": "S1uPNyt3bLdl"
   },
   "source": [
    "# Import the required metadata classes for coverage objects\n",
    "from hsmodels.schemas.fields import BoxCoverage, PointCoverage, PeriodCoverage\n",
    "from datetime import datetime\n",
    "\n",
    "# Set the spatial coverage to a BoxCoverage object\n",
    "new_resource.metadata.spatial_coverage = BoxCoverage(name='Logan, Utah',\n",
    "                                                     northlimit=41.7910,\n",
    "                                                     eastlimit=-111.7664,\n",
    "                                                     southlimit=41.6732,\n",
    "                                                     westlimit=-111.9079,\n",
    "                                                     projection='WGS 84 EPSG:4326',\n",
    "                                                     type='box',\n",
    "                                                     units='Decimal degrees')\n",
    "\n",
    "# You can remove the spatial coverage element by setting it to None\n",
    "new_resource.metadata.spatial_coverage = None\n",
    "\n",
    "# If you want to set the spatial coverage to a PointCoverage instead\n",
    "new_resource.metadata.spatial_coverage = PointCoverage(name='Logan, Utah',\n",
    "                                                       north=41.7371,\n",
    "                                                       east=-111.8351,\n",
    "                                                       projection='WGS 84 EPSG:4326',\n",
    "                                                       type='point',\n",
    "                                                       units='Decimal degrees')\n",
    "\n",
    "# Create a beginning and ending date for a time period\n",
    "beginDate = datetime.strptime('2020-12-01T00:00:00Z', '%Y-%m-%dT%H:%M:%S%fZ')\n",
    "endDate = datetime.strptime('2020-12-31T00:00:00Z', '%Y-%m-%dT%H:%M:%S%fZ')\n",
    "\n",
    "# Set the temporal coverage of the resource to a PeriodCoverage object\n",
    "new_resource.metadata.period_coverage = PeriodCoverage(start=beginDate,\n",
    "                                                       end=endDate)\n",
    "\n",
    "# Save the changes to the resource in HydroShare\n",
    "new_resource.save()\n",
    "\n",
    "# Print the temporal coverage information\n",
    "print('Temporal Coverage:')\n",
    "print(new_resource.metadata.period_coverage)\n",
    "\n",
    "# Print the spatial coverage information\n",
    "print('\\nSpatial Coverage:')\n",
    "print(new_resource.metadata.spatial_coverage)"
   ],
   "outputs": [],
   "execution_count": null
  },
  {
   "cell_type": "markdown",
   "metadata": {
    "id": "0bSSFXgJNHN6"
   },
   "source": [
    "### Additional/Extended Metadata\n",
    "\n",
    "HydroShare allows you to create new, extended metadata elements for a HydroShare resource as key-value pairs. You can add new elements, edit existing elements, or remove these elements. Extended metadata elements are stored in the resource as a Python dictionary."
   ]
  },
  {
   "cell_type": "code",
   "metadata": {
    "id": "CNVPngHLSGCU"
   },
   "source": [
    "# Add an extended metadata element as a key-value pair\n",
    "new_resource.metadata.additional_metadata['New Element Key'] = 'Text value of new element key.'\n",
    "\n",
    "# Remove an individual key-value pair using its key\n",
    "del new_resource.metadata.additional_metadata['New Element Key']\n",
    "\n",
    "# Or, you can clear out all additional metadata elements that might exist\n",
    "new_resource.metadata.additional_metadata.clear()\n",
    "\n",
    "# Add multiple key-value pairs at once using a Python dictionary\n",
    "new_resource.metadata.additional_metadata = {\n",
    "    'Observed Variable': 'Oxygen, dissolved',\n",
    "    'Site Location': 'Located on downstream side of river bridge',\n",
    "    'Observation Depth': '1 meter'\n",
    "}\n",
    "\n",
    "# Save the changes to the resource in HydroShare\n",
    "new_resource.save()\n",
    "\n",
    "# Print the extended metadata elements for the resource\n",
    "print('The extended metadata elements for the resource include:')\n",
    "for key, value in new_resource.metadata.additional_metadata.items():\n",
    "    print(f'{key}: {value}')"
   ],
   "outputs": [],
   "execution_count": null
  },
  {
   "cell_type": "markdown",
   "metadata": {
    "id": "ZcO3JogX26W-"
   },
   "source": [
    "### Related Resources\n",
    "\n",
    "Related Resources are specified using a string that encodes the citation for the Related Resource along with a relationship type. Because of this, Related Resources are stored as a list of `Relation` objects. To create a new Related Resource, you have to first instantiate a `Relation` object and then add it to the list of Related Resources."
   ]
  },
  {
   "cell_type": "code",
   "metadata": {
    "id": "YmP0zLVDzdyL"
   },
   "source": [
    "# Import the required metadata class for a Relation object\n",
    "from hsmodels.schemas.fields import Relation\n",
    "from hsmodels.schemas.enums import RelationType\n",
    "\n",
    "# If you have existing Related Resources, you can remove all of them\n",
    "# by clearing the local list and then saving the resource\n",
    "new_resource.metadata.relations.clear()\n",
    "new_resource.save()\n",
    "\n",
    "# Create a new relation object\n",
    "new_relation = Relation(type=RelationType.isReferencedBy,\n",
    "                        value=('Bastidas Pacheco, C. J., Horsburgh, J. S., Tracy, '\n",
    "                               'R. J. (2020). A low-cost, open source monitoring '\n",
    "                               'system for collecting high-resolution water use '\n",
    "                               'data on magnetically-driven residential water '\n",
    "                               'meters, Sensors, 20(13), 3655, '\n",
    "                               'https://doi.org/10.3390/s20133655.'))\n",
    "\n",
    "# Append the new Related Resource to the list of Related Resources\n",
    "new_resource.metadata.relations.append(new_relation)\n",
    "\n",
    "# Add another related resource with a different relationship type\n",
    "new_relation = Relation(type=RelationType.references,\n",
    "                        value=('Mihalevich, B. A., Horsburgh, J. S., Melcher, A. A. (2017). '\n",
    "                               'High-frequency measurements reveal spatial and temporal patterns '\n",
    "                               'of dissolved organic matter in an urban water conveyance, '\n",
    "                               'Environmental Monitoring and Assessment, '\n",
    "                               'https://doi.org/10.1007/s10661-017-6310-y.'))\n",
    "new_resource.metadata.relations.append(new_relation)\n",
    "\n",
    "# Save the changes to the resource in HydroShare\n",
    "new_resource.save()\n",
    "\n",
    "# Print the list of Related Resources\n",
    "print('The list of Related Resources includes:')\n",
    "for relatedResource in new_resource.metadata.relations:\n",
    "    print(f'{relatedResource.type.value}: {relatedResource.value}')"
   ],
   "outputs": [],
   "execution_count": null
  },
  {
   "cell_type": "markdown",
   "metadata": {
    "id": "Hhu6bIUENSPB"
   },
   "source": [
    "### Funding Agency Credits\n",
    "\n",
    "Funding agency information contains multiple attributes when you add a funding agency to a HydroShare resource. You can create multiple funding agency entries for a resource, which get stored as a Python list. "
   ]
  },
  {
   "cell_type": "code",
   "metadata": {
    "id": "gT0bgrHZbB1Q"
   },
   "source": [
    "# Import the required metadata class for an AwardInfo object\n",
    "from hsmodels.schemas.fields import AwardInfo\n",
    "\n",
    "# If you have existing funding agency information, you can remove all of them\n",
    "# by clearing the local list and then saving the resource\n",
    "new_resource.metadata.awards.clear()\n",
    "new_resource.save()\n",
    "\n",
    "# Create a new AwardInfo object\n",
    "newAwardInfo = AwardInfo(funding_agency_name='National Science Foundation',\n",
    "                         title=('Collaborative Research: Elements: Advancing Data Science ' \n",
    "                                'and Analytics for Water (DSAW)'),\n",
    "                         number='OAC 1931297',\n",
    "                         funding_agency_url='https://www.nsf.gov/awardsearch/showAward?AWD_ID=1931297')\n",
    "\n",
    "# Append the new AwardInfo object to the list of funding agencies\n",
    "new_resource.metadata.awards.append(newAwardInfo)\n",
    "\n",
    "# Save the changes to the resource in HydroShare\n",
    "new_resource.save()\n",
    "\n",
    "# Print the AwardInfo\n",
    "print('Funding sources added: ')\n",
    "for award in new_resource.metadata.awards:\n",
    "    print(f'Award Title: {award.title}')"
   ],
   "outputs": [],
   "execution_count": null
  },
  {
   "cell_type": "markdown",
   "metadata": {
    "id": "0YrcMiFAV64U"
   },
   "source": [
    "### Authors\n",
    "\n",
    "In HydroShare, an \"Author\" is the same as the Dublin Core metadata \"Creator\" element. The Creator element is a list of creators for the resource. However, the order of the Creators matters. When setting Creator information for the resource, you need to edit the local list of creators so that it reflects the order you want. When you call the `save()` function on the resource, the Creator information in HydroShare will be updated to match what you set locally. To add a new Creator to the list of Creators, you must first instantiate a Creator object and then add it to the list of Creators for the resource. Creator objects can be created by supplying all of the Creator metadata or by copying from a HydroShare user's profile."
   ]
  },
  {
   "cell_type": "code",
   "metadata": {
    "id": "RzHEDCTlWLat"
   },
   "source": [
    "# Import the required metadata class for a Creator object\n",
    "from hsmodels.schemas.fields import Creator\n",
    "\n",
    "# Instantiate a new Creator object for a Creator that is a HydroShare user\n",
    "newCreator1 = Creator(name='Jones, Amber Spackman',\n",
    "                      organization='Utah State University',\n",
    "                      email='amber.jones@usu.edu',\n",
    "                      hydroshare_user_id=510)\n",
    "\n",
    "# Append the new Creator to the resource's list of Creators\n",
    "new_resource.metadata.creators.append(newCreator1)\n",
    "\n",
    "# Instantiate a new Creator object for a Creator that is not a HydroShare user\n",
    "newCreator2 = Creator(name='Doe, John A.',\n",
    "                      organization='Utah Water Research Laboratory',\n",
    "                      email='john.doe@usu.edu',\n",
    "                      address='8200 Old Main Hill, Logan, UT 84322-8200',\n",
    "                      phone='123-456-7890')\n",
    "\n",
    "# Append the new Creator to the resource's list of Creators\n",
    "new_resource.metadata.creators.append(newCreator2)\n",
    "\n",
    "# Instantiate a new Creator object for a Creator that is an organization\n",
    "newCreator3 = Creator(organization='Utah Water Research Laboratory',\n",
    "                      email='uwrl.receptionist@usu.edu',\n",
    "                      address='8200 Old Main Hill, Logan, UT 84322-8200',\n",
    "                      homepage='http://uwrl.usu.edu',\n",
    "                      phone='435-797-3168 ')\n",
    "\n",
    "# Append the new Creator to the resource's list of Creators\n",
    "new_resource.metadata.creators.append(newCreator3)\n",
    "\n",
    "# Instantiate a new Creator object using a HydroShare user object\n",
    "# First, retrieve HydroShare user object\n",
    "tony = hs.user(11)\n",
    "\n",
    "# Generate a Creator object from a HydroShare user object and append\n",
    "# the new Creator to the resource's list of Creators\n",
    "newCreator4 = Creator.from_user(tony)\n",
    "new_resource.metadata.creators.append(newCreator4)\n",
    "\n",
    "# Save the changes to the resource in HydroShare\n",
    "new_resource.save()\n",
    "\n",
    "# Print the Creator names\n",
    "print('The list of Creators includes: ')\n",
    "for creator in new_resource.metadata.creators:\n",
    "    if creator.name is None:\n",
    "        print(creator.organization)\n",
    "    else:\n",
    "        print(creator.name)"
   ],
   "outputs": [],
   "execution_count": null
  },
  {
   "cell_type": "markdown",
   "metadata": {
    "id": "2YP5qwA2oDj0"
   },
   "source": [
    "The previous step leaves the resource with a list of 5 Creators. The order in which Creators appear in the metadata and on the Resource Landing Page is controlled by the order in which they appear in the the Creator list. To update the Creator order, update the order of the Creator list and then save the resource."
   ]
  },
  {
   "cell_type": "code",
   "metadata": {
    "id": "bJgVpwgEoCfH"
   },
   "source": [
    "# Change the order of the Creators in the list\n",
    "creatorOrder = [3, 2, 0, 1, 4]\n",
    "new_resource.metadata.creators = [new_resource.metadata.creators[i] for i in creatorOrder]\n",
    "\n",
    "# Save the changes to the resource in HydroShare\n",
    "new_resource.save()\n",
    "\n",
    "# Print the modified order of the Creator names\n",
    "print('The list of Creators includes: ')\n",
    "for creator in new_resource.metadata.creators:\n",
    "    if creator.name is None:\n",
    "        print(creator.organization)\n",
    "    else:\n",
    "        print(creator.name)"
   ],
   "outputs": [],
   "execution_count": null
  },
  {
   "cell_type": "markdown",
   "metadata": {
    "id": "34ugdY5sjZ0v"
   },
   "source": [
    "Creators can be removed by removing them from the local list of creators and then calling the `save()` function on the resource. Note that there must always be at least one creator."
   ]
  },
  {
   "cell_type": "code",
   "metadata": {
    "id": "s34w7lEqY2sE"
   },
   "source": [
    "# Example of removing all but the first creator\n",
    "del new_resource.metadata.creators[1:]\n",
    "new_resource.save()\n",
    "\n",
    "print(f'Number of remaining creators: {len(new_resource.metadata.creators)}')"
   ],
   "outputs": [],
   "execution_count": null
  },
  {
   "cell_type": "markdown",
   "metadata": {
    "id": "zbeYxqHOWAPc"
   },
   "source": [
    "### Contributors\n",
    "\n",
    "Contributors can be existing HydroShare users or others who do not have HydroShare accounts. Creating and removing contributors is similar to how Creators are handled. Contributors do not have a designated order."
   ]
  },
  {
   "cell_type": "code",
   "metadata": {
    "id": "Vmw7dgC9a9Za"
   },
   "source": [
    "# Import the required metadata class for a Contributor object\n",
    "from hsmodels.schemas.fields import Contributor\n",
    "\n",
    "# Instantiate a new Contributor object for a Contributor that is not a HydroShare user\n",
    "newContributor1 = Contributor(name='Horsburgh, Jeffery S.',\n",
    "                              organization='Utah State University',\n",
    "                              email='jeff.horsburgh@usu.edu',\n",
    "                              phone='(435) 797-2946',\n",
    "                              ORCID='https://orcid.org/0000-0002-0768-3196',\n",
    "                              address='Utah, US',\n",
    "                              google_scholar_id='https://scholar.google.com/citations?user=mu4k534AAAAJ&hl=en',\n",
    "                              homepage='http://jeffh.usu.edu',\n",
    "                              research_gate_id='https://www.researchgate.net/profile/Jeffery_Horsburgh')\n",
    "\n",
    "# Append the new Contributor to the resource's list of Contributors\n",
    "new_resource.metadata.contributors.append(newContributor1)\n",
    "\n",
    "# Instantiate a new Contributor object for a Contributor that is not a HydroShare user\n",
    "# Not all of the available metadata for a contributor have to be filled out\n",
    "newContributor2 = Contributor(name='Doe, John A.',\n",
    "                              organization='Utah State University',\n",
    "                              email='john.doe@usu.edu')\n",
    "\n",
    "# Append the new Contributor to the resource's list of Contributors\n",
    "new_resource.metadata.contributors.append(newContributor2)\n",
    "\n",
    "# Instantiate a new Contributor object using a HydroShare user object\n",
    "# First, retrieve HydroShare user object\n",
    "tony = hs.user(11)\n",
    "\n",
    "# Generate a Contributor object from the HydroShare user object\n",
    "newContributor3 = Contributor.from_user(tony)\n",
    "new_resource.metadata.contributors.append(newContributor3)\n",
    "\n",
    "# Save the changes to the resource in HydroShare\n",
    "new_resource.save()\n",
    "\n",
    "# Print the Contributor names\n",
    "print('The list of Contributors includes: ')\n",
    "for Contributor in new_resource.metadata.contributors:\n",
    "    print(Contributor.name)"
   ],
   "outputs": [],
   "execution_count": null
  },
  {
   "cell_type": "markdown",
   "metadata": {
    "id": "86cGI4OWrodg"
   },
   "source": [
    "Similar to other elements, if you want to remove Contributors, you can modify the local list of Creators and then call the `save()` function on the resource to save the changes in HydroShare."
   ]
  },
  {
   "cell_type": "code",
   "metadata": {
    "id": "oM1U3TUaotjA"
   },
   "source": [
    "# Clear the list of Contributors and save to HydroShare\n",
    "new_resource.metadata.contributors.clear()\n",
    "new_resource.save()\n",
    "\n",
    "print(f'Number of remaining Contributors: {len(new_resource.metadata.contributors)}')"
   ],
   "outputs": [],
   "execution_count": null
  },
  {
   "cell_type": "markdown",
   "metadata": {
    "id": "XaU1ZwT-D2dI"
   },
   "source": [
    "### License and Rights Statement\n",
    "\n",
    "The license under which a Resource is shared can be modified. HydroShare defaults to one of the Creative Commons licenses, but you can change it to a license that meets your needs. The license consists of a rights statement stored as as string and a URL that is a link to a description of the license on the Internet."
   ]
  },
  {
   "cell_type": "code",
   "metadata": {
    "id": "G7ejpRSpEIdn"
   },
   "source": [
    "# Import the required metadata class for a Rights object\n",
    "from hsmodels.schemas.fields import Rights\n",
    "\n",
    "# Set the rights statement and the URL that points to its description\n",
    "new_resource.metadata.rights.statement = (\n",
    "    'This resource is shared under the Creative Commons '\n",
    "    'Attribution-NonCommercial-NoDerivatives 4.0 International'\n",
    "    '(CC BY-NC-ND 4.0).'\n",
    ")\n",
    "new_resource.metadata.rights.url = 'https://creativecommons.org/licenses/by-nc-nd/4.0/'\n",
    "\n",
    "# Save the changes to the resource in HydroShare\n",
    "new_resource.save()\n",
    "\n",
    "# Print the rights statement:\n",
    "print(new_resource.metadata.rights.statement)\n",
    "print(new_resource.metadata.rights.url)\n",
    "\n",
    "# You can also use one of the available, pre-generated Rights Statements\n",
    "# available in HydroShare\n",
    "new_resource.metadata.rights = Rights.Creative_Commons_Attribution_CC_BY()\n",
    "new_resource.save()\n",
    "\n",
    "# Print the rights statement:\n",
    "print(new_resource.metadata.rights.statement)\n",
    "print(new_resource.metadata.rights.url)"
   ],
   "outputs": [],
   "execution_count": null
  },
  {
   "cell_type": "code",
   "source": [
    "# TODO: Related geospatial features is not implemented yet"
   ],
   "metadata": {
    "collapsed": false
   },
   "outputs": [],
   "execution_count": null
  }
 ],
 "metadata": {
  "colab": {
   "collapsed_sections": [],
   "name": "HS_RDF_Examples.ipynb",
   "provenance": [],
   "toc_visible": true
  },
  "kernelspec": {
   "display_name": "Python 3",
   "language": "python",
   "name": "python3"
  },
  "language_info": {
   "codemirror_mode": {
    "name": "ipython",
    "version": 3
   },
   "file_extension": ".py",
   "mimetype": "text/x-python",
   "name": "python",
   "nbconvert_exporter": "python",
   "pygments_lexer": "ipython3",
   "version": "3.7.3"
  }
 },
 "nbformat": 4,
 "nbformat_minor": 4
}
